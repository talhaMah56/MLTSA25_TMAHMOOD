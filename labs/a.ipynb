{
 "cells": [
  {
   "cell_type": "code",
   "id": "initial_id",
   "metadata": {
    "collapsed": true,
    "ExecuteTime": {
     "end_time": "2025-02-18T20:27:33.682623Z",
     "start_time": "2025-02-18T20:27:33.668657Z"
    }
   },
   "source": [
    "import pandas as pd\n",
    "import numpy as np"
   ],
   "outputs": [],
   "execution_count": 18
  },
  {
   "metadata": {
    "ExecuteTime": {
     "end_time": "2025-02-18T20:27:33.808870Z",
     "start_time": "2025-02-18T20:27:33.703984Z"
    }
   },
   "cell_type": "code",
   "source": [
    "url = 'https://raw.githubusercontent.com/fedhere/MLTSA_FBianco/refs/heads/main/data/grb050525A.csv'\n",
    "grbAG = pd.read_csv(url)\n",
    "grbAG"
   ],
   "id": "c84e203453e131ca",
   "outputs": [
    {
     "data": {
      "text/plain": [
       "    filter     time    mag  magerr  upperlimit\n",
       "0        V       66  13.21    0.24           0\n",
       "1        V       67  12.90    0.23           0\n",
       "2        V       68  12.86    0.23           0\n",
       "3        V       69  13.01    0.23           0\n",
       "4        V       70  12.97    0.23           0\n",
       "..     ...      ...    ...     ...         ...\n",
       "114     W1    63738    NaN   21.20           1\n",
       "115     M2    74798    NaN   21.59           1\n",
       "116      U   128928    NaN   20.05           1\n",
       "117      V   971360    NaN   22.09           1\n",
       "118      V  1171176    NaN   21.16           1\n",
       "\n",
       "[119 rows x 5 columns]"
      ],
      "text/html": [
       "<div>\n",
       "<style scoped>\n",
       "    .dataframe tbody tr th:only-of-type {\n",
       "        vertical-align: middle;\n",
       "    }\n",
       "\n",
       "    .dataframe tbody tr th {\n",
       "        vertical-align: top;\n",
       "    }\n",
       "\n",
       "    .dataframe thead th {\n",
       "        text-align: right;\n",
       "    }\n",
       "</style>\n",
       "<table border=\"1\" class=\"dataframe\">\n",
       "  <thead>\n",
       "    <tr style=\"text-align: right;\">\n",
       "      <th></th>\n",
       "      <th>filter</th>\n",
       "      <th>time</th>\n",
       "      <th>mag</th>\n",
       "      <th>magerr</th>\n",
       "      <th>upperlimit</th>\n",
       "    </tr>\n",
       "  </thead>\n",
       "  <tbody>\n",
       "    <tr>\n",
       "      <th>0</th>\n",
       "      <td>V</td>\n",
       "      <td>66</td>\n",
       "      <td>13.21</td>\n",
       "      <td>0.24</td>\n",
       "      <td>0</td>\n",
       "    </tr>\n",
       "    <tr>\n",
       "      <th>1</th>\n",
       "      <td>V</td>\n",
       "      <td>67</td>\n",
       "      <td>12.90</td>\n",
       "      <td>0.23</td>\n",
       "      <td>0</td>\n",
       "    </tr>\n",
       "    <tr>\n",
       "      <th>2</th>\n",
       "      <td>V</td>\n",
       "      <td>68</td>\n",
       "      <td>12.86</td>\n",
       "      <td>0.23</td>\n",
       "      <td>0</td>\n",
       "    </tr>\n",
       "    <tr>\n",
       "      <th>3</th>\n",
       "      <td>V</td>\n",
       "      <td>69</td>\n",
       "      <td>13.01</td>\n",
       "      <td>0.23</td>\n",
       "      <td>0</td>\n",
       "    </tr>\n",
       "    <tr>\n",
       "      <th>4</th>\n",
       "      <td>V</td>\n",
       "      <td>70</td>\n",
       "      <td>12.97</td>\n",
       "      <td>0.23</td>\n",
       "      <td>0</td>\n",
       "    </tr>\n",
       "    <tr>\n",
       "      <th>...</th>\n",
       "      <td>...</td>\n",
       "      <td>...</td>\n",
       "      <td>...</td>\n",
       "      <td>...</td>\n",
       "      <td>...</td>\n",
       "    </tr>\n",
       "    <tr>\n",
       "      <th>114</th>\n",
       "      <td>W1</td>\n",
       "      <td>63738</td>\n",
       "      <td>NaN</td>\n",
       "      <td>21.20</td>\n",
       "      <td>1</td>\n",
       "    </tr>\n",
       "    <tr>\n",
       "      <th>115</th>\n",
       "      <td>M2</td>\n",
       "      <td>74798</td>\n",
       "      <td>NaN</td>\n",
       "      <td>21.59</td>\n",
       "      <td>1</td>\n",
       "    </tr>\n",
       "    <tr>\n",
       "      <th>116</th>\n",
       "      <td>U</td>\n",
       "      <td>128928</td>\n",
       "      <td>NaN</td>\n",
       "      <td>20.05</td>\n",
       "      <td>1</td>\n",
       "    </tr>\n",
       "    <tr>\n",
       "      <th>117</th>\n",
       "      <td>V</td>\n",
       "      <td>971360</td>\n",
       "      <td>NaN</td>\n",
       "      <td>22.09</td>\n",
       "      <td>1</td>\n",
       "    </tr>\n",
       "    <tr>\n",
       "      <th>118</th>\n",
       "      <td>V</td>\n",
       "      <td>1171176</td>\n",
       "      <td>NaN</td>\n",
       "      <td>21.16</td>\n",
       "      <td>1</td>\n",
       "    </tr>\n",
       "  </tbody>\n",
       "</table>\n",
       "<p>119 rows × 5 columns</p>\n",
       "</div>"
      ]
     },
     "execution_count": 19,
     "metadata": {},
     "output_type": "execute_result"
    }
   ],
   "execution_count": 19
  },
  {
   "metadata": {
    "ExecuteTime": {
     "end_time": "2025-02-18T20:27:33.901500Z",
     "start_time": "2025-02-18T20:27:33.893998Z"
    }
   },
   "cell_type": "code",
   "source": "grbAG.columns",
   "id": "58217f75486afe0a",
   "outputs": [
    {
     "data": {
      "text/plain": [
       "Index(['filter', 'time', 'mag', 'magerr', 'upperlimit'], dtype='object')"
      ]
     },
     "execution_count": 20,
     "metadata": {},
     "output_type": "execute_result"
    }
   ],
   "execution_count": 20
  },
  {
   "metadata": {
    "ExecuteTime": {
     "end_time": "2025-02-18T20:27:34.008295Z",
     "start_time": "2025-02-18T20:27:33.986693Z"
    }
   },
   "cell_type": "code",
   "source": "grbAG[['time', 'mag', 'magerr', 'upperlimit']].corr()",
   "id": "2b04259f5ed2d489",
   "outputs": [
    {
     "data": {
      "text/plain": [
       "                time       mag    magerr  upperlimit\n",
       "time        1.000000  0.846971  0.517663    0.506833\n",
       "mag         0.846971  1.000000  0.602576         NaN\n",
       "magerr      0.517663  0.602576  1.000000    0.999288\n",
       "upperlimit  0.506833       NaN  0.999288    1.000000"
      ],
      "text/html": [
       "<div>\n",
       "<style scoped>\n",
       "    .dataframe tbody tr th:only-of-type {\n",
       "        vertical-align: middle;\n",
       "    }\n",
       "\n",
       "    .dataframe tbody tr th {\n",
       "        vertical-align: top;\n",
       "    }\n",
       "\n",
       "    .dataframe thead th {\n",
       "        text-align: right;\n",
       "    }\n",
       "</style>\n",
       "<table border=\"1\" class=\"dataframe\">\n",
       "  <thead>\n",
       "    <tr style=\"text-align: right;\">\n",
       "      <th></th>\n",
       "      <th>time</th>\n",
       "      <th>mag</th>\n",
       "      <th>magerr</th>\n",
       "      <th>upperlimit</th>\n",
       "    </tr>\n",
       "  </thead>\n",
       "  <tbody>\n",
       "    <tr>\n",
       "      <th>time</th>\n",
       "      <td>1.000000</td>\n",
       "      <td>0.846971</td>\n",
       "      <td>0.517663</td>\n",
       "      <td>0.506833</td>\n",
       "    </tr>\n",
       "    <tr>\n",
       "      <th>mag</th>\n",
       "      <td>0.846971</td>\n",
       "      <td>1.000000</td>\n",
       "      <td>0.602576</td>\n",
       "      <td>NaN</td>\n",
       "    </tr>\n",
       "    <tr>\n",
       "      <th>magerr</th>\n",
       "      <td>0.517663</td>\n",
       "      <td>0.602576</td>\n",
       "      <td>1.000000</td>\n",
       "      <td>0.999288</td>\n",
       "    </tr>\n",
       "    <tr>\n",
       "      <th>upperlimit</th>\n",
       "      <td>0.506833</td>\n",
       "      <td>NaN</td>\n",
       "      <td>0.999288</td>\n",
       "      <td>1.000000</td>\n",
       "    </tr>\n",
       "  </tbody>\n",
       "</table>\n",
       "</div>"
      ]
     },
     "execution_count": 21,
     "metadata": {},
     "output_type": "execute_result"
    }
   ],
   "execution_count": 21
  },
  {
   "metadata": {
    "ExecuteTime": {
     "end_time": "2025-02-18T20:27:34.339954Z",
     "start_time": "2025-02-18T20:27:34.163269Z"
    }
   },
   "cell_type": "code",
   "source": "grbAG.plot(x=\"time\", y=\"mag\", kind = \"scatter\")",
   "id": "2744d4f724b9d07e",
   "outputs": [
    {
     "data": {
      "text/plain": [
       "<Axes: xlabel='time', ylabel='mag'>"
      ]
     },
     "execution_count": 22,
     "metadata": {},
     "output_type": "execute_result"
    },
    {
     "data": {
      "text/plain": [
       "<Figure size 640x480 with 1 Axes>"
      ],
      "image/png": "[encoded data removed]"
     },
     "metadata": {},
     "output_type": "display_data"
    }
   ],
   "execution_count": 22
  },
  {
   "metadata": {
    "ExecuteTime": {
     "end_time": "2025-02-18T20:27:43.722530Z",
     "start_time": "2025-02-18T20:27:43.714461Z"
    }
   },
   "cell_type": "code",
   "source": "grbAG['logtime']= np.log10(grbAG.loc[:,'time'])",
   "id": "be3d39b342a3386a",
   "outputs": [],
   "execution_count": 24
  },
  {
   "metadata": {
    "ExecuteTime": {
     "end_time": "2025-02-18T20:32:10.683239Z",
     "start_time": "2025-02-18T20:32:10.564859Z"
    }
   },
   "cell_type": "code",
   "source": [
    "ax = grbAG.plot(x=\"logtime\", y=\"mag\", kind = \"scatter\", yerr='magerr')\n",
    "ax.set_ylim(24, 11.7)\n"
   ],
   "id": "3e62ea774ca7a40d",
   "outputs": [
    {
     "data": {
      "text/plain": [
       "(24.0, 11.7)"
      ]
     },
     "execution_count": 28,
     "metadata": {},
     "output_type": "execute_result"
    },
    {
     "data": {
      "text/plain": [
       "<Figure size 640x480 with 1 Axes>"
      ],
      "image/png": "[encoded data removed]"
     },
     "metadata": {},
     "output_type": "display_data"
    }
   ],
   "execution_count": 28
  },
  {
   "metadata": {
    "ExecuteTime": {
     "end_time": "2025-02-18T20:40:14.242135Z",
     "start_time": "2025-02-18T20:40:14.212875Z"
    }
   },
   "cell_type": "code",
   "source": [
    "x = grbAG['logtime'].value()\n",
    "X = np.c_[[np.ones_like(x),x]].T"
   ],
   "id": "d1279bd7853eed64",
   "outputs": [
    {
     "ename": "AttributeError",
     "evalue": "'Series' object has no attribute 'value'",
     "output_type": "error",
     "traceback": [
      "\u001B[0;31m---------------------------------------------------------------------------\u001B[0m",
      "\u001B[0;31mAttributeError\u001B[0m                            Traceback (most recent call last)",
      "\u001B[0;32m/var/folders/64/dnhhm7710b13ss14dgk2fpzm0000gn/T/ipykernel_45865/3879008842.py\u001B[0m in \u001B[0;36m?\u001B[0;34m()\u001B[0m\n\u001B[0;32m----> 1\u001B[0;31m \u001B[0mx\u001B[0m \u001B[0;34m=\u001B[0m \u001B[0mgrbAG\u001B[0m\u001B[0;34m[\u001B[0m\u001B[0;34m'logtime'\u001B[0m\u001B[0;34m]\u001B[0m\u001B[0;34m.\u001B[0m\u001B[0mvalue\u001B[0m\u001B[0;34m(\u001B[0m\u001B[0;34m)\u001B[0m\u001B[0;34m\u001B[0m\u001B[0;34m\u001B[0m\u001B[0m\n\u001B[0m\u001B[1;32m      2\u001B[0m \u001B[0mX\u001B[0m \u001B[0;34m=\u001B[0m \u001B[0mnp\u001B[0m\u001B[0;34m.\u001B[0m\u001B[0mc_\u001B[0m\u001B[0;34m[\u001B[0m\u001B[0mnp\u001B[0m\u001B[0;34m.\u001B[0m\u001B[0mones_like\u001B[0m\u001B[0;34m(\u001B[0m\u001B[0mx\u001B[0m\u001B[0;34m)\u001B[0m\u001B[0;34m,\u001B[0m\u001B[0mx\u001B[0m\u001B[0;34m]\u001B[0m\u001B[0;34m\u001B[0m\u001B[0;34m\u001B[0m\u001B[0m\n",
      "\u001B[0;32m~/Developer/edu/p/MLTSA25_TMAHMOOD/env/lib/python3.11/site-packages/pandas/core/generic.py\u001B[0m in \u001B[0;36m?\u001B[0;34m(self, name)\u001B[0m\n\u001B[1;32m   6295\u001B[0m             \u001B[0;32mand\u001B[0m \u001B[0mname\u001B[0m \u001B[0;32mnot\u001B[0m \u001B[0;32min\u001B[0m \u001B[0mself\u001B[0m\u001B[0;34m.\u001B[0m\u001B[0m_accessors\u001B[0m\u001B[0;34m\u001B[0m\u001B[0;34m\u001B[0m\u001B[0m\n\u001B[1;32m   6296\u001B[0m             \u001B[0;32mand\u001B[0m \u001B[0mself\u001B[0m\u001B[0;34m.\u001B[0m\u001B[0m_info_axis\u001B[0m\u001B[0;34m.\u001B[0m\u001B[0m_can_hold_identifiers_and_holds_name\u001B[0m\u001B[0;34m(\u001B[0m\u001B[0mname\u001B[0m\u001B[0;34m)\u001B[0m\u001B[0;34m\u001B[0m\u001B[0;34m\u001B[0m\u001B[0m\n\u001B[1;32m   6297\u001B[0m         ):\n\u001B[1;32m   6298\u001B[0m             \u001B[0;32mreturn\u001B[0m \u001B[0mself\u001B[0m\u001B[0;34m[\u001B[0m\u001B[0mname\u001B[0m\u001B[0;34m]\u001B[0m\u001B[0;34m\u001B[0m\u001B[0;34m\u001B[0m\u001B[0m\n\u001B[0;32m-> 6299\u001B[0;31m         \u001B[0;32mreturn\u001B[0m \u001B[0mobject\u001B[0m\u001B[0;34m.\u001B[0m\u001B[0m__getattribute__\u001B[0m\u001B[0;34m(\u001B[0m\u001B[0mself\u001B[0m\u001B[0;34m,\u001B[0m \u001B[0mname\u001B[0m\u001B[0;34m)\u001B[0m\u001B[0;34m\u001B[0m\u001B[0;34m\u001B[0m\u001B[0m\n\u001B[0m",
      "\u001B[0;31mAttributeError\u001B[0m: 'Series' object has no attribute 'value'"
     ]
    }
   ],
   "execution_count": 31
  },
  {
   "metadata": {
    "ExecuteTime": {
     "end_time": "2025-02-18T20:35:38.997592Z",
     "start_time": "2025-02-18T20:35:20.881949Z"
    }
   },
   "cell_type": "code",
   "source": [
    "from sklearn.linear_model import linearRegression\n",
    "\n",
    "lr = linearRegression()"
   ],
   "id": "a148e8a1a9490bb4",
   "outputs": [
    {
     "ename": "ImportError",
     "evalue": "cannot import name 'linearRegression' from 'sklearn.linear_model' (/Users/talha56/Developer/edu/p/MLTSA25_TMAHMOOD/env/lib/python3.11/site-packages/sklearn/linear_model/__init__.py)",
     "output_type": "error",
     "traceback": [
      "\u001B[0;31m---------------------------------------------------------------------------\u001B[0m",
      "\u001B[0;31mImportError\u001B[0m                               Traceback (most recent call last)",
      "Cell \u001B[0;32mIn[29], line 1\u001B[0m\n\u001B[0;32m----> 1\u001B[0m \u001B[38;5;28;01mfrom\u001B[39;00m\u001B[38;5;250m \u001B[39m\u001B[38;5;21;01msklearn\u001B[39;00m\u001B[38;5;21;01m.\u001B[39;00m\u001B[38;5;21;01mlinear_model\u001B[39;00m\u001B[38;5;250m \u001B[39m\u001B[38;5;28;01mimport\u001B[39;00m linearRegression\n\u001B[1;32m      3\u001B[0m lr \u001B[38;5;241m=\u001B[39m linearRegression()\n",
      "\u001B[0;31mImportError\u001B[0m: cannot import name 'linearRegression' from 'sklearn.linear_model' (/Users/talha56/Developer/edu/p/MLTSA25_TMAHMOOD/env/lib/python3.11/site-packages/sklearn/linear_model/__init__.py)"
     ]
    }
   ],
   "execution_count": 29
  }
 ],
 "metadata": {
  "kernelspec": {
   "display_name": "Python 3",
   "language": "python",
   "name": "python3"
  },
  "language_info": {
   "codemirror_mode": {
    "name": "ipython",
    "version": 2
   },
   "file_extension": ".py",
   "mimetype": "text/x-python",
   "name": "python",
   "nbconvert_exporter": "python",
   "pygments_lexer": "ipython2",
   "version": "2.7.6"
  }
 },
 "nbformat": 4,
 "nbformat_minor": 5
}
