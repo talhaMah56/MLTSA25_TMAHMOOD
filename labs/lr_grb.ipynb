{
 "cells": [
  {
   "cell_type": "code",
   "id": "initial_id",
   "metadata": {
    "collapsed": true,
    "ExecuteTime": {
     "end_time": "2025-02-20T19:33:28.102050Z",
     "start_time": "2025-02-20T19:33:28.098343Z"
    }
   },
   "source": [
    "import pandas as pd\n",
    "import numpy as np"
   ],
   "outputs": [],
   "execution_count": 10
  },
  {
   "metadata": {
    "ExecuteTime": {
     "end_time": "2025-02-20T19:33:28.235827Z",
     "start_time": "2025-02-20T19:33:28.113996Z"
    }
   },
   "cell_type": "code",
   "source": [
    "url = 'https://raw.githubusercontent.com/fedhere/MLTSA_FBianco/refs/heads/main/data/grb050525A.csv'\n",
    "grbAG = pd.read_csv(url)\n",
    "grbAG"
   ],
   "id": "c84e203453e131ca",
   "outputs": [
    {
     "data": {
      "text/plain": [
       "    filter     time    mag  magerr  upperlimit\n",
       "0        V       66  13.21    0.24           0\n",
       "1        V       67  12.90    0.23           0\n",
       "2        V       68  12.86    0.23           0\n",
       "3        V       69  13.01    0.23           0\n",
       "4        V       70  12.97    0.23           0\n",
       "..     ...      ...    ...     ...         ...\n",
       "114     W1    63738    NaN   21.20           1\n",
       "115     M2    74798    NaN   21.59           1\n",
       "116      U   128928    NaN   20.05           1\n",
       "117      V   971360    NaN   22.09           1\n",
       "118      V  1171176    NaN   21.16           1\n",
       "\n",
       "[119 rows x 5 columns]"
      ],
      "text/html": [
       "<div>\n",
       "<style scoped>\n",
       "    .dataframe tbody tr th:only-of-type {\n",
       "        vertical-align: middle;\n",
       "    }\n",
       "\n",
       "    .dataframe tbody tr th {\n",
       "        vertical-align: top;\n",
       "    }\n",
       "\n",
       "    .dataframe thead th {\n",
       "        text-align: right;\n",
       "    }\n",
       "</style>\n",
       "<table border=\"1\" class=\"dataframe\">\n",
       "  <thead>\n",
       "    <tr style=\"text-align: right;\">\n",
       "      <th></th>\n",
       "      <th>filter</th>\n",
       "      <th>time</th>\n",
       "      <th>mag</th>\n",
       "      <th>magerr</th>\n",
       "      <th>upperlimit</th>\n",
       "    </tr>\n",
       "  </thead>\n",
       "  <tbody>\n",
       "    <tr>\n",
       "      <th>0</th>\n",
       "      <td>V</td>\n",
       "      <td>66</td>\n",
       "      <td>13.21</td>\n",
       "      <td>0.24</td>\n",
       "      <td>0</td>\n",
       "    </tr>\n",
       "    <tr>\n",
       "      <th>1</th>\n",
       "      <td>V</td>\n",
       "      <td>67</td>\n",
       "      <td>12.90</td>\n",
       "      <td>0.23</td>\n",
       "      <td>0</td>\n",
       "    </tr>\n",
       "    <tr>\n",
       "      <th>2</th>\n",
       "      <td>V</td>\n",
       "      <td>68</td>\n",
       "      <td>12.86</td>\n",
       "      <td>0.23</td>\n",
       "      <td>0</td>\n",
       "    </tr>\n",
       "    <tr>\n",
       "      <th>3</th>\n",
       "      <td>V</td>\n",
       "      <td>69</td>\n",
       "      <td>13.01</td>\n",
       "      <td>0.23</td>\n",
       "      <td>0</td>\n",
       "    </tr>\n",
       "    <tr>\n",
       "      <th>4</th>\n",
       "      <td>V</td>\n",
       "      <td>70</td>\n",
       "      <td>12.97</td>\n",
       "      <td>0.23</td>\n",
       "      <td>0</td>\n",
       "    </tr>\n",
       "    <tr>\n",
       "      <th>...</th>\n",
       "      <td>...</td>\n",
       "      <td>...</td>\n",
       "      <td>...</td>\n",
       "      <td>...</td>\n",
       "      <td>...</td>\n",
       "    </tr>\n",
       "    <tr>\n",
       "      <th>114</th>\n",
       "      <td>W1</td>\n",
       "      <td>63738</td>\n",
       "      <td>NaN</td>\n",
       "      <td>21.20</td>\n",
       "      <td>1</td>\n",
       "    </tr>\n",
       "    <tr>\n",
       "      <th>115</th>\n",
       "      <td>M2</td>\n",
       "      <td>74798</td>\n",
       "      <td>NaN</td>\n",
       "      <td>21.59</td>\n",
       "      <td>1</td>\n",
       "    </tr>\n",
       "    <tr>\n",
       "      <th>116</th>\n",
       "      <td>U</td>\n",
       "      <td>128928</td>\n",
       "      <td>NaN</td>\n",
       "      <td>20.05</td>\n",
       "      <td>1</td>\n",
       "    </tr>\n",
       "    <tr>\n",
       "      <th>117</th>\n",
       "      <td>V</td>\n",
       "      <td>971360</td>\n",
       "      <td>NaN</td>\n",
       "      <td>22.09</td>\n",
       "      <td>1</td>\n",
       "    </tr>\n",
       "    <tr>\n",
       "      <th>118</th>\n",
       "      <td>V</td>\n",
       "      <td>1171176</td>\n",
       "      <td>NaN</td>\n",
       "      <td>21.16</td>\n",
       "      <td>1</td>\n",
       "    </tr>\n",
       "  </tbody>\n",
       "</table>\n",
       "<p>119 rows × 5 columns</p>\n",
       "</div>"
      ]
     },
     "execution_count": 11,
     "metadata": {},
     "output_type": "execute_result"
    }
   ],
   "execution_count": 11
  },
  {
   "metadata": {
    "ExecuteTime": {
     "end_time": "2025-02-20T19:33:28.310682Z",
     "start_time": "2025-02-20T19:33:28.304511Z"
    }
   },
   "cell_type": "code",
   "source": "grbAG.columns",
   "id": "58217f75486afe0a",
   "outputs": [
    {
     "data": {
      "text/plain": [
       "Index(['filter', 'time', 'mag', 'magerr', 'upperlimit'], dtype='object')"
      ]
     },
     "execution_count": 12,
     "metadata": {},
     "output_type": "execute_result"
    }
   ],
   "execution_count": 12
  },
  {
   "metadata": {
    "ExecuteTime": {
     "end_time": "2025-02-20T19:33:28.374449Z",
     "start_time": "2025-02-20T19:33:28.363703Z"
    }
   },
   "cell_type": "code",
   "source": "grbAG[['time', 'mag', 'magerr', 'upperlimit']].corr()",
   "id": "2b04259f5ed2d489",
   "outputs": [
    {
     "data": {
      "text/plain": [
       "                time       mag    magerr  upperlimit\n",
       "time        1.000000  0.846971  0.517663    0.506833\n",
       "mag         0.846971  1.000000  0.602576         NaN\n",
       "magerr      0.517663  0.602576  1.000000    0.999288\n",
       "upperlimit  0.506833       NaN  0.999288    1.000000"
      ],
      "text/html": [
       "<div>\n",
       "<style scoped>\n",
       "    .dataframe tbody tr th:only-of-type {\n",
       "        vertical-align: middle;\n",
       "    }\n",
       "\n",
       "    .dataframe tbody tr th {\n",
       "        vertical-align: top;\n",
       "    }\n",
       "\n",
       "    .dataframe thead th {\n",
       "        text-align: right;\n",
       "    }\n",
       "</style>\n",
       "<table border=\"1\" class=\"dataframe\">\n",
       "  <thead>\n",
       "    <tr style=\"text-align: right;\">\n",
       "      <th></th>\n",
       "      <th>time</th>\n",
       "      <th>mag</th>\n",
       "      <th>magerr</th>\n",
       "      <th>upperlimit</th>\n",
       "    </tr>\n",
       "  </thead>\n",
       "  <tbody>\n",
       "    <tr>\n",
       "      <th>time</th>\n",
       "      <td>1.000000</td>\n",
       "      <td>0.846971</td>\n",
       "      <td>0.517663</td>\n",
       "      <td>0.506833</td>\n",
       "    </tr>\n",
       "    <tr>\n",
       "      <th>mag</th>\n",
       "      <td>0.846971</td>\n",
       "      <td>1.000000</td>\n",
       "      <td>0.602576</td>\n",
       "      <td>NaN</td>\n",
       "    </tr>\n",
       "    <tr>\n",
       "      <th>magerr</th>\n",
       "      <td>0.517663</td>\n",
       "      <td>0.602576</td>\n",
       "      <td>1.000000</td>\n",
       "      <td>0.999288</td>\n",
       "    </tr>\n",
       "    <tr>\n",
       "      <th>upperlimit</th>\n",
       "      <td>0.506833</td>\n",
       "      <td>NaN</td>\n",
       "      <td>0.999288</td>\n",
       "      <td>1.000000</td>\n",
       "    </tr>\n",
       "  </tbody>\n",
       "</table>\n",
       "</div>"
      ]
     },
     "execution_count": 13,
     "metadata": {},
     "output_type": "execute_result"
    }
   ],
   "execution_count": 13
  },
  {
   "metadata": {
    "ExecuteTime": {
     "end_time": "2025-02-20T19:33:28.612828Z",
     "start_time": "2025-02-20T19:33:28.456602Z"
    }
   },
   "cell_type": "code",
   "source": "grbAG.plot(x=\"time\", y=\"mag\", kind = \"scatter\")",
   "id": "2744d4f724b9d07e",
   "outputs": [
    {
     "data": {
      "text/plain": [
       "<Axes: xlabel='time', ylabel='mag'>"
      ]
     },
     "execution_count": 14,
     "metadata": {},
     "output_type": "execute_result"
    },
    {
     "data": {
      "text/plain": [
       "<Figure size 640x480 with 1 Axes>"
      ],
      "image/png": "[encoded data removed]"
     },
     "metadata": {},
     "output_type": "display_data"
    }
   ],
   "execution_count": 14
  },
  {
   "metadata": {
    "ExecuteTime": {
     "end_time": "2025-02-20T19:33:28.669483Z",
     "start_time": "2025-02-20T19:33:28.665419Z"
    }
   },
   "cell_type": "code",
   "source": "grbAG['logtime']= np.log10(grbAG.loc[:,'time'])",
   "id": "be3d39b342a3386a",
   "outputs": [],
   "execution_count": 15
  },
  {
   "metadata": {
    "ExecuteTime": {
     "end_time": "2025-02-20T19:33:28.833330Z",
     "start_time": "2025-02-20T19:33:28.698417Z"
    }
   },
   "cell_type": "code",
   "source": [
    "ax = grbAG.plot(x=\"logtime\", y=\"mag\", kind = \"scatter\", yerr='magerr')\n",
    "ax.set_ylim(24, 11.7)\n"
   ],
   "id": "3e62ea774ca7a40d",
   "outputs": [
    {
     "data": {
      "text/plain": [
       "(24.0, 11.7)"
      ]
     },
     "execution_count": 16,
     "metadata": {},
     "output_type": "execute_result"
    },
    {
     "data": {
      "text/plain": [
       "<Figure size 640x480 with 1 Axes>"
      ],
      "image/png": "[encoded data removed]"
     },
     "metadata": {},
     "output_type": "display_data"
    }
   ],
   "execution_count": 16
  },
  {
   "metadata": {
    "ExecuteTime": {
     "end_time": "2025-02-20T19:38:40.570463Z",
     "start_time": "2025-02-20T19:38:40.564702Z"
    }
   },
   "cell_type": "code",
   "source": [
    "x = grbAG[\"logtime\"].values\n",
    "x"
   ],
   "id": "d1279bd7853eed64",
   "outputs": [
    {
     "data": {
      "text/plain": [
       "array([1.81954394, 1.8260748 , 1.83250891, 1.83884909, 1.84509804,\n",
       "       1.85125835, 1.8573325 , 1.86332286, 1.8920946 , 1.91907809,\n",
       "       1.94448267, 1.96848295, 1.99122608, 2.01283722, 2.03342376,\n",
       "       2.05307844, 2.07188201, 2.08990511, 2.10720997, 2.12385164,\n",
       "       2.13987909, 2.15533604, 2.17026172, 2.18469143, 2.19865709,\n",
       "       2.2121876 , 2.22530928, 2.2380461 , 2.27184161, 2.30535137,\n",
       "       2.33243846, 2.35983548, 2.38916608, 2.41161971, 2.4345689 ,\n",
       "       2.45636603, 2.47567119, 2.49554434, 2.5171959 , 2.53402611,\n",
       "       2.55145   , 2.56820172, 2.59879051, 2.61595005, 2.62221402,\n",
       "       2.6294096 , 2.64345268, 2.6580114 , 2.67024585, 2.68304704,\n",
       "       2.69722934, 2.7084209 , 2.7201593 , 2.73158877, 2.74193908,\n",
       "       2.75663611, 2.76492298, 2.77451697, 2.78461729, 2.79518459,\n",
       "       2.80413943, 2.81358099, 2.82347423, 2.83250891, 2.84135947,\n",
       "       2.85003326, 2.85793526, 2.86628734, 2.87563994, 2.88309336,\n",
       "       2.8909796 , 2.89872518, 2.90579588, 2.91381385, 2.92168648,\n",
       "       2.92890769, 2.9360108 , 2.94299959, 2.94939001, 2.95616843,\n",
       "       2.96378783, 2.96988164, 2.97634998, 2.98272339, 2.98900462,\n",
       "       3.01452054, 3.05690485, 3.09447113, 3.77699158, 3.83001094,\n",
       "       4.07986834, 4.10281089, 4.2090322 , 4.25462057, 4.26892882,\n",
       "       4.34562855, 4.38033789, 4.4488763 , 4.4573368 , 4.46805179,\n",
       "       4.47756979, 4.53017408, 4.54165412, 4.55191332, 4.5986045 ,\n",
       "       4.60836555, 4.61320735, 4.65770585, 4.69302307, 4.70975318,\n",
       "       4.71683772, 4.71735423, 4.7242267 , 4.79622037, 4.80439843,\n",
       "       4.87388999, 5.11034725, 5.98738022, 6.06862216])"
      ]
     },
     "execution_count": 22,
     "metadata": {},
     "output_type": "execute_result"
    }
   ],
   "execution_count": 22
  },
  {
   "metadata": {
    "ExecuteTime": {
     "end_time": "2025-02-20T19:38:55.214065Z",
     "start_time": "2025-02-20T19:38:55.208716Z"
    }
   },
   "cell_type": "code",
   "source": [
    "y= grbAG[\"mag\"].values\n",
    "y\n"
   ],
   "id": "d2ae16a617596545",
   "outputs": [
    {
     "data": {
      "text/plain": [
       "array([13.21      , 12.9       , 12.86      , 13.01      , 12.97      ,\n",
       "       13.31      , 13.13      , 13.01      , 13.13      , 13.26      ,\n",
       "       13.18      , 13.24      , 13.25      , 13.51      , 13.44      ,\n",
       "       13.67      , 13.48      , 13.62      , 13.86      , 13.7       ,\n",
       "       13.83      , 13.81      , 13.84      , 13.87      , 14.06      ,\n",
       "       14.        , 14.01      , 14.08      , 14.18903433, 14.29714678,\n",
       "       14.38453778, 14.47292871, 14.56755795, 14.64      , 14.96903433,\n",
       "       14.86714678, 14.76453778, 14.87292871, 15.17755795, 14.79      ,\n",
       "       15.24903433, 15.45714678, 15.19292871, 15.00755795, 15.15453778,\n",
       "       15.22      , 15.58903433, 15.78714678, 15.39453778, 15.31292871,\n",
       "       15.47755795, 15.47      , 16.48903433, 15.90714678, 15.65453778,\n",
       "       15.38292871, 15.09755795, 16.06      , 15.54903433, 15.94714678,\n",
       "       15.69453778, 15.81292871, 15.67755795, 15.83      , 15.82903433,\n",
       "       15.90714678, 15.82453778, 15.71292871, 15.59755795, 16.06      ,\n",
       "       16.15903433, 16.56714678, 16.14453778, 16.24292871, 16.30755795,\n",
       "       15.78      , 16.21903433, 16.83714678, 15.97453778, 16.12292871,\n",
       "       16.08755795, 15.85      , 16.30903433, 16.44714678, 16.00453778,\n",
       "       16.29292871, 16.22755795, 16.34      , 17.74903433, 18.01714678,\n",
       "       18.34453778, 18.27292871, 18.37292871, 18.86755795, 18.15      ,\n",
       "       19.1       , 19.60903433, 20.17714678, 19.53453778, 19.47453778,\n",
       "       19.50292871, 20.52292871, 19.92755795, 18.86      , 20.36903433,\n",
       "       21.01714678, 20.67453778,         nan,         nan, 20.98903433,\n",
       "               nan,         nan,         nan,         nan,         nan,\n",
       "               nan,         nan,         nan,         nan])"
      ]
     },
     "execution_count": 23,
     "metadata": {},
     "output_type": "execute_result"
    }
   ],
   "execution_count": 23
  },
  {
   "metadata": {
    "ExecuteTime": {
     "end_time": "2025-02-20T19:40:19.000359Z",
     "start_time": "2025-02-20T19:40:18.995653Z"
    }
   },
   "cell_type": "code",
   "source": "x.shape",
   "id": "8b132c88770b9838",
   "outputs": [
    {
     "data": {
      "text/plain": [
       "(119,)"
      ]
     },
     "execution_count": 25,
     "metadata": {},
     "output_type": "execute_result"
    }
   ],
   "execution_count": 25
  },
  {
   "metadata": {
    "ExecuteTime": {
     "end_time": "2025-02-20T19:40:23.752780Z",
     "start_time": "2025-02-20T19:40:23.746499Z"
    }
   },
   "cell_type": "code",
   "source": "y.shape",
   "id": "cf06a99e662da73d",
   "outputs": [
    {
     "data": {
      "text/plain": [
       "(119,)"
      ]
     },
     "execution_count": 26,
     "metadata": {},
     "output_type": "execute_result"
    }
   ],
   "execution_count": 26
  },
  {
   "metadata": {
    "ExecuteTime": {
     "end_time": "2025-02-20T19:41:30.348616Z",
     "start_time": "2025-02-20T19:41:30.341411Z"
    }
   },
   "cell_type": "code",
   "source": "grbAG.isna().sum()",
   "id": "4b928499cd4b56c4",
   "outputs": [
    {
     "data": {
      "text/plain": [
       "filter         0\n",
       "time           0\n",
       "mag           11\n",
       "magerr         0\n",
       "upperlimit     0\n",
       "logtime        0\n",
       "dtype: int64"
      ]
     },
     "execution_count": 27,
     "metadata": {},
     "output_type": "execute_result"
    }
   ],
   "execution_count": 27
  },
  {
   "metadata": {
    "ExecuteTime": {
     "end_time": "2025-02-20T19:52:57.370805Z",
     "start_time": "2025-02-20T19:52:57.362812Z"
    }
   },
   "cell_type": "code",
   "source": [
    "grbAG_Nonan = grbAG.dropna()\n",
    "grbAG_Nonan\n",
    "#(inplace=True) changes the real data frame"
   ],
   "id": "cb47483be07992a",
   "outputs": [
    {
     "data": {
      "text/plain": [
       "    filter   time        mag  magerr  upperlimit   logtime\n",
       "0        V     66  13.210000    0.24           0  1.819544\n",
       "1        V     67  12.900000    0.23           0  1.826075\n",
       "2        V     68  12.860000    0.23           0  1.832509\n",
       "3        V     69  13.010000    0.23           0  1.838849\n",
       "4        V     70  12.970000    0.23           0  1.845098\n",
       "..     ...    ...        ...     ...         ...       ...\n",
       "103      V  35638  18.860000    0.27           0  4.551913\n",
       "104     M2  39683  20.369034    0.30           0  4.598604\n",
       "105     W1  40585  21.017147    0.39           0  4.608366\n",
       "106      U  41040  20.674538    0.54           0  4.613207\n",
       "109     M2  51257  20.989034    0.48           0  4.709753\n",
       "\n",
       "[108 rows x 6 columns]"
      ],
      "text/html": [
       "<div>\n",
       "<style scoped>\n",
       "    .dataframe tbody tr th:only-of-type {\n",
       "        vertical-align: middle;\n",
       "    }\n",
       "\n",
       "    .dataframe tbody tr th {\n",
       "        vertical-align: top;\n",
       "    }\n",
       "\n",
       "    .dataframe thead th {\n",
       "        text-align: right;\n",
       "    }\n",
       "</style>\n",
       "<table border=\"1\" class=\"dataframe\">\n",
       "  <thead>\n",
       "    <tr style=\"text-align: right;\">\n",
       "      <th></th>\n",
       "      <th>filter</th>\n",
       "      <th>time</th>\n",
       "      <th>mag</th>\n",
       "      <th>magerr</th>\n",
       "      <th>upperlimit</th>\n",
       "      <th>logtime</th>\n",
       "    </tr>\n",
       "  </thead>\n",
       "  <tbody>\n",
       "    <tr>\n",
       "      <th>0</th>\n",
       "      <td>V</td>\n",
       "      <td>66</td>\n",
       "      <td>13.210000</td>\n",
       "      <td>0.24</td>\n",
       "      <td>0</td>\n",
       "      <td>1.819544</td>\n",
       "    </tr>\n",
       "    <tr>\n",
       "      <th>1</th>\n",
       "      <td>V</td>\n",
       "      <td>67</td>\n",
       "      <td>12.900000</td>\n",
       "      <td>0.23</td>\n",
       "      <td>0</td>\n",
       "      <td>1.826075</td>\n",
       "    </tr>\n",
       "    <tr>\n",
       "      <th>2</th>\n",
       "      <td>V</td>\n",
       "      <td>68</td>\n",
       "      <td>12.860000</td>\n",
       "      <td>0.23</td>\n",
       "      <td>0</td>\n",
       "      <td>1.832509</td>\n",
       "    </tr>\n",
       "    <tr>\n",
       "      <th>3</th>\n",
       "      <td>V</td>\n",
       "      <td>69</td>\n",
       "      <td>13.010000</td>\n",
       "      <td>0.23</td>\n",
       "      <td>0</td>\n",
       "      <td>1.838849</td>\n",
       "    </tr>\n",
       "    <tr>\n",
       "      <th>4</th>\n",
       "      <td>V</td>\n",
       "      <td>70</td>\n",
       "      <td>12.970000</td>\n",
       "      <td>0.23</td>\n",
       "      <td>0</td>\n",
       "      <td>1.845098</td>\n",
       "    </tr>\n",
       "    <tr>\n",
       "      <th>...</th>\n",
       "      <td>...</td>\n",
       "      <td>...</td>\n",
       "      <td>...</td>\n",
       "      <td>...</td>\n",
       "      <td>...</td>\n",
       "      <td>...</td>\n",
       "    </tr>\n",
       "    <tr>\n",
       "      <th>103</th>\n",
       "      <td>V</td>\n",
       "      <td>35638</td>\n",
       "      <td>18.860000</td>\n",
       "      <td>0.27</td>\n",
       "      <td>0</td>\n",
       "      <td>4.551913</td>\n",
       "    </tr>\n",
       "    <tr>\n",
       "      <th>104</th>\n",
       "      <td>M2</td>\n",
       "      <td>39683</td>\n",
       "      <td>20.369034</td>\n",
       "      <td>0.30</td>\n",
       "      <td>0</td>\n",
       "      <td>4.598604</td>\n",
       "    </tr>\n",
       "    <tr>\n",
       "      <th>105</th>\n",
       "      <td>W1</td>\n",
       "      <td>40585</td>\n",
       "      <td>21.017147</td>\n",
       "      <td>0.39</td>\n",
       "      <td>0</td>\n",
       "      <td>4.608366</td>\n",
       "    </tr>\n",
       "    <tr>\n",
       "      <th>106</th>\n",
       "      <td>U</td>\n",
       "      <td>41040</td>\n",
       "      <td>20.674538</td>\n",
       "      <td>0.54</td>\n",
       "      <td>0</td>\n",
       "      <td>4.613207</td>\n",
       "    </tr>\n",
       "    <tr>\n",
       "      <th>109</th>\n",
       "      <td>M2</td>\n",
       "      <td>51257</td>\n",
       "      <td>20.989034</td>\n",
       "      <td>0.48</td>\n",
       "      <td>0</td>\n",
       "      <td>4.709753</td>\n",
       "    </tr>\n",
       "  </tbody>\n",
       "</table>\n",
       "<p>108 rows × 6 columns</p>\n",
       "</div>"
      ]
     },
     "execution_count": 40,
     "metadata": {},
     "output_type": "execute_result"
    }
   ],
   "execution_count": 40
  },
  {
   "metadata": {
    "ExecuteTime": {
     "end_time": "2025-02-20T19:52:59.794458Z",
     "start_time": "2025-02-20T19:52:59.789448Z"
    }
   },
   "cell_type": "code",
   "source": [
    "x = grbAG_Nonan.loc[:,\"logtime\"].values\n",
    "y = grbAG_Nonan.loc[:,\"mag\"].values\n",
    "x.shape"
   ],
   "id": "460d6e6dc60eebf",
   "outputs": [
    {
     "data": {
      "text/plain": [
       "(108,)"
      ]
     },
     "execution_count": 41,
     "metadata": {},
     "output_type": "execute_result"
    }
   ],
   "execution_count": 41
  },
  {
   "metadata": {},
   "cell_type": "code",
   "outputs": [],
   "execution_count": null,
   "source": "",
   "id": "20193abb2750fc4c"
  },
  {
   "metadata": {
    "ExecuteTime": {
     "end_time": "2025-02-20T19:53:01.556366Z",
     "start_time": "2025-02-20T19:53:01.552584Z"
    }
   },
   "cell_type": "code",
   "source": "y.shape\n",
   "id": "1085df5969ebbc23",
   "outputs": [
    {
     "data": {
      "text/plain": [
       "(108,)"
      ]
     },
     "execution_count": 42,
     "metadata": {},
     "output_type": "execute_result"
    }
   ],
   "execution_count": 42
  },
  {
   "metadata": {
    "ExecuteTime": {
     "end_time": "2025-02-20T19:55:38.564041Z",
     "start_time": "2025-02-20T19:55:38.558705Z"
    }
   },
   "cell_type": "code",
   "source": "X = np.c_[np.ones((len(grbAG_Nonan),1)), x]",
   "id": "982fe1cbd396c406",
   "outputs": [],
   "execution_count": 44
  },
  {
   "metadata": {
    "ExecuteTime": {
     "end_time": "2025-02-20T19:57:49.749243Z",
     "start_time": "2025-02-20T19:57:49.730145Z"
    }
   },
   "cell_type": "code",
   "source": [
    "from sklearn.linear_model import LinearRegression\n",
    "\n",
    "# Create and fit the linear regression model\n",
    "model = LinearRegression(fit_intercept = True)\n",
    "model.fit(X, y)\n",
    "model.coef_\n",
    "#\n",
    "# # Predict the values using the model\n",
    "# y_pred = model.predict(X)\n",
    "#\n"
   ],
   "id": "72300021ed986c46",
   "outputs": [
    {
     "data": {
      "text/plain": [
       "array([0.        , 2.51199984])"
      ]
     },
     "execution_count": 45,
     "metadata": {},
     "output_type": "execute_result"
    }
   ],
   "execution_count": 45
  },
  {
   "metadata": {
    "ExecuteTime": {
     "end_time": "2025-02-20T20:02:21.806711Z",
     "start_time": "2025-02-20T20:02:21.654429Z"
    }
   },
   "cell_type": "code",
   "source": [
    "# Plot the original data and the regression line\n",
    "import matplotlib.pyplot as plt\n",
    "ax = grbAG_Nonan.plot(x=\"logtime\", y=\"mag\", kind=\"scatter\")\n",
    "ax.set_ylim(24, 11.7)\n",
    "\n",
    "# x_range = np.array([[1,grbAG_Nonan[\"logtime\"].min()], [1, grbAG_Nonan[\"logtime\"].max()]])\n",
    "ax.plot(x, model.predict(X))"
   ],
   "id": "9bcadf48227c2594",
   "outputs": [
    {
     "data": {
      "text/plain": [
       "[<matplotlib.lines.Line2D at 0x12acf5610>]"
      ]
     },
     "execution_count": 49,
     "metadata": {},
     "output_type": "execute_result"
    },
    {
     "data": {
      "text/plain": [
       "<Figure size 640x480 with 1 Axes>"
      ],
      "image/png": "[encoded data removed]"
     },
     "metadata": {},
     "output_type": "display_data"
    }
   ],
   "execution_count": 49
  }
 ],
 "metadata": {
  "kernelspec": {
   "display_name": "Python 3",
   "language": "python",
   "name": "python3"
  },
  "language_info": {
   "codemirror_mode": {
    "name": "ipython",
    "version": 2
   },
   "file_extension": ".py",
   "mimetype": "text/x-python",
   "name": "python",
   "nbconvert_exporter": "python",
   "pygments_lexer": "ipython2",
   "version": "2.7.6"
  }
 },
 "nbformat": 4,
 "nbformat_minor": 5
}
