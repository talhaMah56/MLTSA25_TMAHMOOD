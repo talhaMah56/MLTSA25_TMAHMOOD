{
 "nbformat": 4,
 "nbformat_minor": 0,
 "metadata": {
  "colab": {
   "provenance": [],
   "authorship_tag": "ABX9TyNaJhIE2qU+AWeyOcd4zfaD",
   "include_colab_link": true
  },
  "kernelspec": {
   "name": "python3",
   "display_name": "Python 3 (ipykernel)",
   "language": "python"
  },
  "language_info": {
   "name": "python"
  }
 },
 "cells": [
  {
   "cell_type": "markdown",
   "metadata": {
    "id": "view-in-github",
    "colab_type": "text"
   },
   "source": [
    "<a href=\"https://colab.research.google.com/github/fedhere/MLTSA_FBianco/blob/main/inclasscode/python_bootcamp_MLTSA25.ipynb\" target=\"_parent\"><img src=\"https://colab.research.google.com/assets/colab-badge.svg\" alt=\"Open In Colab\"/></a>"
   ]
  },
  {
   "cell_type": "code",
   "metadata": {
    "id": "CXnmdk7-hJW_",
    "ExecuteTime": {
     "end_time": "2025-02-13T20:07:15.204687Z",
     "start_time": "2025-02-13T20:07:15.184927Z"
    }
   },
   "source": [
    "from idlelib.debugobj import make_objecttreeitem\n",
    "\n",
    "my_str = \"Hello World\""
   ],
   "outputs": [],
   "execution_count": 74
  },
  {
   "cell_type": "code",
   "source": [
    "my_str"
   ],
   "metadata": {
    "colab": {
     "base_uri": "https://localhost:8080/",
     "height": 36
    },
    "id": "cTzzQj82h_V5",
    "outputId": "9f4e9295-3bdf-450e-ed01-aa323b1e2ba1",
    "ExecuteTime": {
     "end_time": "2025-02-13T20:07:15.216664Z",
     "start_time": "2025-02-13T20:07:15.212032Z"
    }
   },
   "outputs": [
    {
     "data": {
      "text/plain": [
       "'Hello World'"
      ]
     },
     "execution_count": 75,
     "metadata": {},
     "output_type": "execute_result"
    }
   ],
   "execution_count": 75
  },
  {
   "cell_type": "code",
   "source": [
    "print(my_str)"
   ],
   "metadata": {
    "colab": {
     "base_uri": "https://localhost:8080/"
    },
    "id": "goHb9C90iDoE",
    "outputId": "4b005898-154f-43c7-a1d1-391f68eb9192",
    "ExecuteTime": {
     "end_time": "2025-02-13T20:07:15.234946Z",
     "start_time": "2025-02-13T20:07:15.232084Z"
    }
   },
   "outputs": [
    {
     "name": "stdout",
     "output_type": "stream",
     "text": [
      "Hello World\n"
     ]
    }
   ],
   "execution_count": 76
  },
  {
   "cell_type": "code",
   "source": [
    "my_int = 6"
   ],
   "metadata": {
    "id": "TpxU1a63iZEi",
    "ExecuteTime": {
     "end_time": "2025-02-13T20:07:15.251572Z",
     "start_time": "2025-02-13T20:07:15.249359Z"
    }
   },
   "outputs": [],
   "execution_count": 77
  },
  {
   "cell_type": "code",
   "source": [
    "my_float = 6."
   ],
   "metadata": {
    "id": "5CmQ16j7icxC",
    "ExecuteTime": {
     "end_time": "2025-02-13T20:07:15.285290Z",
     "start_time": "2025-02-13T20:07:15.283318Z"
    }
   },
   "outputs": [],
   "execution_count": 78
  },
  {
   "cell_type": "code",
   "source": [
    "print(my_float)"
   ],
   "metadata": {
    "colab": {
     "base_uri": "https://localhost:8080/"
    },
    "id": "F9KH6j7PikTC",
    "outputId": "e3617abb-a46c-41d5-9296-23d75f3a89a2",
    "ExecuteTime": {
     "end_time": "2025-02-13T20:07:15.303002Z",
     "start_time": "2025-02-13T20:07:15.300028Z"
    }
   },
   "outputs": [
    {
     "name": "stdout",
     "output_type": "stream",
     "text": [
      "6.0\n"
     ]
    }
   ],
   "execution_count": 79
  },
  {
   "cell_type": "code",
   "source": [
    "my_int * my_float"
   ],
   "metadata": {
    "colab": {
     "base_uri": "https://localhost:8080/"
    },
    "id": "cYnLUPTmirsI",
    "outputId": "f7355175-253a-43ff-a6f6-4b594833fcb4",
    "ExecuteTime": {
     "end_time": "2025-02-13T20:07:15.331010Z",
     "start_time": "2025-02-13T20:07:15.326957Z"
    }
   },
   "outputs": [
    {
     "data": {
      "text/plain": [
       "36.0"
      ]
     },
     "execution_count": 80,
     "metadata": {},
     "output_type": "execute_result"
    }
   ],
   "execution_count": 80
  },
  {
   "cell_type": "code",
   "source": [
    "my_int * my_str"
   ],
   "metadata": {
    "colab": {
     "base_uri": "https://localhost:8080/",
     "height": 36
    },
    "id": "RsQXVHCBi5aD",
    "outputId": "606b507e-6129-4dac-8599-365647485a0a",
    "ExecuteTime": {
     "end_time": "2025-02-13T20:07:15.356311Z",
     "start_time": "2025-02-13T20:07:15.352998Z"
    }
   },
   "outputs": [
    {
     "data": {
      "text/plain": [
       "'Hello WorldHello WorldHello WorldHello WorldHello WorldHello World'"
      ]
     },
     "execution_count": 81,
     "metadata": {},
     "output_type": "execute_result"
    }
   ],
   "execution_count": 81
  },
  {
   "cell_type": "code",
   "source": [
    "helloworld = \"Hello\" + \" Wrold!\"\n",
    "helloworld"
   ],
   "metadata": {
    "colab": {
     "base_uri": "https://localhost:8080/",
     "height": 36
    },
    "id": "1HcPQcjhjDov",
    "outputId": "db8be7a1-dbba-4b09-d1c1-eb684752ef44",
    "ExecuteTime": {
     "end_time": "2025-02-13T20:07:15.386644Z",
     "start_time": "2025-02-13T20:07:15.383616Z"
    }
   },
   "outputs": [
    {
     "data": {
      "text/plain": [
       "'Hello Wrold!'"
      ]
     },
     "execution_count": 82,
     "metadata": {},
     "output_type": "execute_result"
    }
   ],
   "execution_count": 82
  },
  {
   "cell_type": "code",
   "source": [
    "import numpy as np"
   ],
   "metadata": {
    "id": "OD9iryESjZtA",
    "ExecuteTime": {
     "end_time": "2025-02-13T20:07:15.416252Z",
     "start_time": "2025-02-13T20:07:15.413496Z"
    }
   },
   "outputs": [],
   "execution_count": 83
  },
  {
   "cell_type": "code",
   "source": [
    "my_nparr = np.array([1,2,3])\n",
    "my_nparr"
   ],
   "metadata": {
    "colab": {
     "base_uri": "https://localhost:8080/"
    },
    "id": "L1ix8z0ajtU9",
    "outputId": "6876bb11-388f-4a55-f067-c737f0f993f8",
    "ExecuteTime": {
     "end_time": "2025-02-13T20:07:15.429361Z",
     "start_time": "2025-02-13T20:07:15.425277Z"
    }
   },
   "outputs": [
    {
     "data": {
      "text/plain": [
       "array([1, 2, 3])"
      ]
     },
     "execution_count": 84,
     "metadata": {},
     "output_type": "execute_result"
    }
   ],
   "execution_count": 84
  },
  {
   "cell_type": "code",
   "source": [
    "my_int * my_nparr"
   ],
   "metadata": {
    "colab": {
     "base_uri": "https://localhost:8080/"
    },
    "id": "S_NyZMmRj3M4",
    "outputId": "e708494b-cddc-45b8-86e4-105a7bb8d920",
    "ExecuteTime": {
     "end_time": "2025-02-13T20:07:15.458732Z",
     "start_time": "2025-02-13T20:07:15.455463Z"
    }
   },
   "outputs": [
    {
     "data": {
      "text/plain": [
       "array([ 6, 12, 18])"
      ]
     },
     "execution_count": 85,
     "metadata": {},
     "output_type": "execute_result"
    }
   ],
   "execution_count": 85
  },
  {
   "cell_type": "code",
   "source": [
    "my_bool = True"
   ],
   "metadata": {
    "id": "0uhaGdzRkAtQ",
    "ExecuteTime": {
     "end_time": "2025-02-13T20:07:15.488746Z",
     "start_time": "2025-02-13T20:07:15.486444Z"
    }
   },
   "outputs": [],
   "execution_count": 86
  },
  {
   "cell_type": "code",
   "source": [
    "my_int = 1"
   ],
   "metadata": {
    "id": "8COFZLMGkZTN",
    "ExecuteTime": {
     "end_time": "2025-02-13T20:07:15.512970Z",
     "start_time": "2025-02-13T20:07:15.510359Z"
    }
   },
   "outputs": [],
   "execution_count": 87
  },
  {
   "cell_type": "code",
   "source": [
    "my_int != 6"
   ],
   "metadata": {
    "colab": {
     "base_uri": "https://localhost:8080/"
    },
    "id": "h564f0V5kjX_",
    "outputId": "42fa3b0c-0760-4771-ad1e-1ef39ea469ae",
    "ExecuteTime": {
     "end_time": "2025-02-13T20:07:15.527774Z",
     "start_time": "2025-02-13T20:07:15.525067Z"
    }
   },
   "outputs": [
    {
     "data": {
      "text/plain": [
       "True"
      ]
     },
     "execution_count": 88,
     "metadata": {},
     "output_type": "execute_result"
    }
   ],
   "execution_count": 88
  },
  {
   "cell_type": "code",
   "source": [
    "if my_int != 6:\n",
    "    print(\"my_int is not 6\")\n",
    "else:\n",
    "    print(\"it was 6!!\")"
   ],
   "metadata": {
    "colab": {
     "base_uri": "https://localhost:8080/"
    },
    "id": "3x0urvuJkmzU",
    "outputId": "64444bfa-84ed-4e75-f192-dc84f699178e",
    "ExecuteTime": {
     "end_time": "2025-02-13T20:07:15.552399Z",
     "start_time": "2025-02-13T20:07:15.549861Z"
    }
   },
   "outputs": [
    {
     "name": "stdout",
     "output_type": "stream",
     "text": [
      "my_int is not 6\n"
     ]
    }
   ],
   "execution_count": 89
  },
  {
   "cell_type": "code",
   "source": [
    "type(my_int)"
   ],
   "metadata": {
    "colab": {
     "base_uri": "https://localhost:8080/"
    },
    "id": "OIbeDWj2k3lU",
    "outputId": "33d79132-3d34-4f9d-b6b4-2df029175ad9",
    "ExecuteTime": {
     "end_time": "2025-02-13T20:07:15.578706Z",
     "start_time": "2025-02-13T20:07:15.575154Z"
    }
   },
   "outputs": [
    {
     "data": {
      "text/plain": [
       "int"
      ]
     },
     "execution_count": 90,
     "metadata": {},
     "output_type": "execute_result"
    }
   ],
   "execution_count": 90
  },
  {
   "cell_type": "code",
   "source": [
    "my_nparr.dtype"
   ],
   "metadata": {
    "colab": {
     "base_uri": "https://localhost:8080/"
    },
    "id": "8ZSmKrvmlZtg",
    "outputId": "020b6079-ec76-4ca9-c610-70814f0f73f8",
    "ExecuteTime": {
     "end_time": "2025-02-13T20:07:15.613347Z",
     "start_time": "2025-02-13T20:07:15.609882Z"
    }
   },
   "outputs": [
    {
     "data": {
      "text/plain": [
       "dtype('int64')"
      ]
     },
     "execution_count": 91,
     "metadata": {},
     "output_type": "execute_result"
    }
   ],
   "execution_count": 91
  },
  {
   "cell_type": "code",
   "source": [
    "my_nparr.max()"
   ],
   "metadata": {
    "colab": {
     "base_uri": "https://localhost:8080/"
    },
    "id": "-7xQtCCYlow1",
    "outputId": "8eff2617-021a-497f-b624-70f96108f0ff",
    "ExecuteTime": {
     "end_time": "2025-02-13T20:07:15.640503Z",
     "start_time": "2025-02-13T20:07:15.637116Z"
    }
   },
   "outputs": [
    {
     "data": {
      "text/plain": [
       "np.int64(3)"
      ]
     },
     "execution_count": 92,
     "metadata": {},
     "output_type": "execute_result"
    }
   ],
   "execution_count": 92
  },
  {
   "cell_type": "code",
   "source": [
    "my_nparr.argmax()"
   ],
   "metadata": {
    "colab": {
     "base_uri": "https://localhost:8080/"
    },
    "id": "txegwbc1l3wD",
    "outputId": "fc5cdff0-2714-4df3-d8d9-cb4878fa5e9c",
    "ExecuteTime": {
     "end_time": "2025-02-13T20:07:15.670594Z",
     "start_time": "2025-02-13T20:07:15.666816Z"
    }
   },
   "outputs": [
    {
     "data": {
      "text/plain": [
       "np.int64(2)"
      ]
     },
     "execution_count": 93,
     "metadata": {},
     "output_type": "execute_result"
    }
   ],
   "execution_count": 93
  },
  {
   "cell_type": "code",
   "source": [
    "my_nparr"
   ],
   "metadata": {
    "colab": {
     "base_uri": "https://localhost:8080/"
    },
    "id": "KQ6VnTTMl6my",
    "outputId": "e6118da7-d442-4a2b-fa68-d6c31e2aa319",
    "ExecuteTime": {
     "end_time": "2025-02-13T20:07:15.696585Z",
     "start_time": "2025-02-13T20:07:15.693278Z"
    }
   },
   "outputs": [
    {
     "data": {
      "text/plain": [
       "array([1, 2, 3])"
      ]
     },
     "execution_count": 94,
     "metadata": {},
     "output_type": "execute_result"
    }
   ],
   "execution_count": 94
  },
  {
   "cell_type": "code",
   "source": [
    "my_nparr"
   ],
   "metadata": {
    "colab": {
     "base_uri": "https://localhost:8080/"
    },
    "id": "56rDK9aAl8hs",
    "outputId": "6850e2a0-c4b0-42e2-b19a-804dcdcea79e",
    "ExecuteTime": {
     "end_time": "2025-02-13T20:07:15.732265Z",
     "start_time": "2025-02-13T20:07:15.727431Z"
    }
   },
   "outputs": [
    {
     "data": {
      "text/plain": [
       "array([1, 2, 3])"
      ]
     },
     "execution_count": 95,
     "metadata": {},
     "output_type": "execute_result"
    }
   ],
   "execution_count": 95
  },
  {
   "cell_type": "code",
   "source": [
    "my_nparr[0]"
   ],
   "metadata": {
    "colab": {
     "base_uri": "https://localhost:8080/"
    },
    "id": "V1LHKi7zmDA-",
    "outputId": "9b2c88fd-5ca1-4825-fdf5-13fa02294422",
    "ExecuteTime": {
     "end_time": "2025-02-13T20:07:15.761228Z",
     "start_time": "2025-02-13T20:07:15.757126Z"
    }
   },
   "outputs": [
    {
     "data": {
      "text/plain": [
       "np.int64(1)"
      ]
     },
     "execution_count": 96,
     "metadata": {},
     "output_type": "execute_result"
    }
   ],
   "execution_count": 96
  },
  {
   "cell_type": "code",
   "source": [
    "my_nparr[2]"
   ],
   "metadata": {
    "colab": {
     "base_uri": "https://localhost:8080/"
    },
    "id": "-Vamx5gAmWG9",
    "outputId": "f4361f3a-0b62-4983-b22d-fe862e16ac48",
    "ExecuteTime": {
     "end_time": "2025-02-13T20:07:15.792245Z",
     "start_time": "2025-02-13T20:07:15.788901Z"
    }
   },
   "outputs": [
    {
     "data": {
      "text/plain": [
       "np.int64(3)"
      ]
     },
     "execution_count": 97,
     "metadata": {},
     "output_type": "execute_result"
    }
   ],
   "execution_count": 97
  },
  {
   "cell_type": "code",
   "source": [
    "my_nparr[-1]"
   ],
   "metadata": {
    "colab": {
     "base_uri": "https://localhost:8080/"
    },
    "id": "uJBoNwT8mYzo",
    "outputId": "69499c50-5c69-40f9-ec45-9db3a00836fd",
    "ExecuteTime": {
     "end_time": "2025-02-13T20:07:15.825120Z",
     "start_time": "2025-02-13T20:07:15.819690Z"
    }
   },
   "outputs": [
    {
     "data": {
      "text/plain": [
       "np.int64(3)"
      ]
     },
     "execution_count": 98,
     "metadata": {},
     "output_type": "execute_result"
    }
   ],
   "execution_count": 98
  },
  {
   "cell_type": "code",
   "source": [
    "my_nparr[1:]"
   ],
   "metadata": {
    "colab": {
     "base_uri": "https://localhost:8080/"
    },
    "id": "C9rVgZkwmckw",
    "outputId": "737a51ba-40c6-4c1e-b460-25e64ea0cca7",
    "ExecuteTime": {
     "end_time": "2025-02-13T20:07:15.852440Z",
     "start_time": "2025-02-13T20:07:15.848858Z"
    }
   },
   "outputs": [
    {
     "data": {
      "text/plain": [
       "array([2, 3])"
      ]
     },
     "execution_count": 99,
     "metadata": {},
     "output_type": "execute_result"
    }
   ],
   "execution_count": 99
  },
  {
   "cell_type": "code",
   "source": [
    "my_nparr[1:3]"
   ],
   "metadata": {
    "colab": {
     "base_uri": "https://localhost:8080/"
    },
    "id": "1ob1VzP0mjU9",
    "outputId": "2d11a045-cc2b-4d66-bd39-bc6b43cea494",
    "ExecuteTime": {
     "end_time": "2025-02-13T20:07:15.878808Z",
     "start_time": "2025-02-13T20:07:15.875424Z"
    }
   },
   "outputs": [
    {
     "data": {
      "text/plain": [
       "array([2, 3])"
      ]
     },
     "execution_count": 100,
     "metadata": {},
     "output_type": "execute_result"
    }
   ],
   "execution_count": 100
  },
  {
   "cell_type": "code",
   "source": [
    "list(range(1,4))"
   ],
   "metadata": {
    "colab": {
     "base_uri": "https://localhost:8080/"
    },
    "id": "9c5uBvvSmsHX",
    "outputId": "2e8ebac4-9956-4e31-c5d0-09f21a53ab49",
    "ExecuteTime": {
     "end_time": "2025-02-13T20:07:15.909329Z",
     "start_time": "2025-02-13T20:07:15.904492Z"
    }
   },
   "outputs": [
    {
     "data": {
      "text/plain": [
       "[1, 2, 3]"
      ]
     },
     "execution_count": 101,
     "metadata": {},
     "output_type": "execute_result"
    }
   ],
   "execution_count": 101
  },
  {
   "cell_type": "code",
   "source": [
    "for a in range(1,4):\n",
    "  print(a, np.arange(0,a).sum())"
   ],
   "metadata": {
    "colab": {
     "base_uri": "https://localhost:8080/"
    },
    "id": "bMnLkAdum4Sh",
    "outputId": "e1a3d5e4-804d-4b05-cae0-e9f3c2596cea",
    "ExecuteTime": {
     "end_time": "2025-02-13T20:07:15.938066Z",
     "start_time": "2025-02-13T20:07:15.935051Z"
    }
   },
   "outputs": [
    {
     "name": "stdout",
     "output_type": "stream",
     "text": [
      "1 0\n",
      "2 1\n",
      "3 3\n"
     ]
    }
   ],
   "execution_count": 102
  },
  {
   "cell_type": "code",
   "source": [
    "np.arange(0,a)"
   ],
   "metadata": {
    "colab": {
     "base_uri": "https://localhost:8080/"
    },
    "id": "Zn-V2MN-nGhe",
    "outputId": "dc55c24b-7a4b-46c0-a901-b5252ba8fae4",
    "ExecuteTime": {
     "end_time": "2025-02-13T20:07:15.973684Z",
     "start_time": "2025-02-13T20:07:15.969539Z"
    }
   },
   "outputs": [
    {
     "data": {
      "text/plain": [
       "array([0, 1, 2])"
      ]
     },
     "execution_count": 103,
     "metadata": {},
     "output_type": "execute_result"
    }
   ],
   "execution_count": 103
  },
  {
   "cell_type": "code",
   "source": [
    "def allodds(lastn):\n",
    "  \"\"\"\n",
    "  prints odd numbers\n",
    "  Input:\n",
    "    lastn: (int) last number in the list\n",
    "  Return:\n",
    "    a list of odd numbers\n",
    "  \"\"\"\n",
    "  odds = []\n",
    "  for a in range(0, lastn + 1):\n",
    "    if a % 2 == 1:\n",
    "      odds.append(a)\n",
    "      #print(odds)\n",
    "  return odds\n"
   ],
   "metadata": {
    "id": "EcNcKicQnWzJ",
    "ExecuteTime": {
     "end_time": "2025-02-13T20:07:16.006526Z",
     "start_time": "2025-02-13T20:07:16.003085Z"
    }
   },
   "outputs": [],
   "execution_count": 104
  },
  {
   "cell_type": "code",
   "source": [
    "allodds(10)"
   ],
   "metadata": {
    "colab": {
     "base_uri": "https://localhost:8080/"
    },
    "id": "tqADLCgppu6j",
    "outputId": "e763e4ec-58f6-482a-bda5-bd76e3ef6d62",
    "ExecuteTime": {
     "end_time": "2025-02-13T20:07:16.031128Z",
     "start_time": "2025-02-13T20:07:16.025952Z"
    }
   },
   "outputs": [
    {
     "data": {
      "text/plain": [
       "[1, 3, 5, 7, 9]"
      ]
     },
     "execution_count": 105,
     "metadata": {},
     "output_type": "execute_result"
    }
   ],
   "execution_count": 105
  },
  {
   "cell_type": "markdown",
   "source": [
    "write a function that checks if something is a palindrome:\n",
    "\n",
    "- takes a string as an argument\n",
    "- checks if it is a string\n",
    "- checks if the string is a palindrome (i.e. its unchanged if reversed)\n",
    "- returns `True` if it is a palindrome `False` otherwise\n",
    "- prints an error if the variabe passed is not a string\n",
    "\n"
   ],
   "metadata": {
    "id": "RslF0BDZqtYB"
   }
  },
  {
   "cell_type": "code",
   "source": [
    "def ispalindome(s):\n",
    "  \"checks if a string is a palindrome\"\n",
    "  #if type(s) != str:\n",
    "    #print(\"is not a string\")\n",
    "  assert type(s) == str, \"is not a string\"\n",
    "  if s.lower() == s[::-1].lower():\n",
    "    return True\n",
    "  return False\n",
    "\n",
    "\n",
    "ispalindome(\"Hannah\")"
   ],
   "metadata": {
    "colab": {
     "base_uri": "https://localhost:8080/"
    },
    "id": "6iT558y0p8S_",
    "outputId": "9ea3b839-edcf-480c-d120-22582b42a69e",
    "ExecuteTime": {
     "end_time": "2025-02-13T20:07:16.059803Z",
     "start_time": "2025-02-13T20:07:16.054399Z"
    }
   },
   "outputs": [
    {
     "data": {
      "text/plain": [
       "True"
      ]
     },
     "execution_count": 106,
     "metadata": {},
     "output_type": "execute_result"
    }
   ],
   "execution_count": 106
  },
  {
   "cell_type": "code",
   "source": [
    "s = \"palindrome\"\n",
    "s[::-1]"
   ],
   "metadata": {
    "colab": {
     "base_uri": "https://localhost:8080/",
     "height": 36
    },
    "id": "jy2nS9vKs7Tz",
    "outputId": "76aeaefb-e73c-4c66-9276-56f25e314d74",
    "ExecuteTime": {
     "end_time": "2025-02-13T20:07:16.083994Z",
     "start_time": "2025-02-13T20:07:16.079410Z"
    }
   },
   "outputs": [
    {
     "data": {
      "text/plain": [
       "'emordnilap'"
      ]
     },
     "execution_count": 107,
     "metadata": {},
     "output_type": "execute_result"
    }
   ],
   "execution_count": 107
  },
  {
   "metadata": {
    "ExecuteTime": {
     "end_time": "2025-02-13T20:07:16.320092Z",
     "start_time": "2025-02-13T20:07:16.105615Z"
    }
   },
   "cell_type": "code",
   "source": [
    "import pandas as pd\n",
    "\n",
    "url = \"https://raw.githubusercontent.com/fedhere/PyBOOT/refs/heads/master/data/movies.dat\"\n",
    "movies = pd.read_csv(url, sep=\"::\",index_col=0, engine=\"python\", header=None, names=[\"Title\", \"Genre\"])\n",
    "\n",
    "# If you want to confirm the changes\n",
    "print(movies.head())"
   ],
   "outputs": [
    {
     "name": "stdout",
     "output_type": "stream",
     "text": [
      "                                Title                         Genre\n",
      "1                    Toy Story (1995)   Animation|Children's|Comedy\n",
      "2                      Jumanji (1995)  Adventure|Children's|Fantasy\n",
      "3             Grumpier Old Men (1995)                Comedy|Romance\n",
      "4            Waiting to Exhale (1995)                  Comedy|Drama\n",
      "5  Father of the Bride Part II (1995)                        Comedy\n"
     ]
    }
   ],
   "execution_count": 108
  },
  {
   "metadata": {
    "ExecuteTime": {
     "end_time": "2025-02-13T20:07:16.334392Z",
     "start_time": "2025-02-13T20:07:16.328533Z"
    }
   },
   "cell_type": "code",
   "source": "movies.tail()",
   "outputs": [
    {
     "data": {
      "text/plain": [
       "                           Title           Genre\n",
       "3948     Meet the Parents (2000)          Comedy\n",
       "3949  Requiem for a Dream (2000)           Drama\n",
       "3950            Tigerland (2000)           Drama\n",
       "3951     Two Family House (2000)           Drama\n",
       "3952       Contender, The (2000)  Drama|Thriller"
      ],
      "text/html": [
       "<div>\n",
       "<style scoped>\n",
       "    .dataframe tbody tr th:only-of-type {\n",
       "        vertical-align: middle;\n",
       "    }\n",
       "\n",
       "    .dataframe tbody tr th {\n",
       "        vertical-align: top;\n",
       "    }\n",
       "\n",
       "    .dataframe thead th {\n",
       "        text-align: right;\n",
       "    }\n",
       "</style>\n",
       "<table border=\"1\" class=\"dataframe\">\n",
       "  <thead>\n",
       "    <tr style=\"text-align: right;\">\n",
       "      <th></th>\n",
       "      <th>Title</th>\n",
       "      <th>Genre</th>\n",
       "    </tr>\n",
       "  </thead>\n",
       "  <tbody>\n",
       "    <tr>\n",
       "      <th>3948</th>\n",
       "      <td>Meet the Parents (2000)</td>\n",
       "      <td>Comedy</td>\n",
       "    </tr>\n",
       "    <tr>\n",
       "      <th>3949</th>\n",
       "      <td>Requiem for a Dream (2000)</td>\n",
       "      <td>Drama</td>\n",
       "    </tr>\n",
       "    <tr>\n",
       "      <th>3950</th>\n",
       "      <td>Tigerland (2000)</td>\n",
       "      <td>Drama</td>\n",
       "    </tr>\n",
       "    <tr>\n",
       "      <th>3951</th>\n",
       "      <td>Two Family House (2000)</td>\n",
       "      <td>Drama</td>\n",
       "    </tr>\n",
       "    <tr>\n",
       "      <th>3952</th>\n",
       "      <td>Contender, The (2000)</td>\n",
       "      <td>Drama|Thriller</td>\n",
       "    </tr>\n",
       "  </tbody>\n",
       "</table>\n",
       "</div>"
      ]
     },
     "execution_count": 109,
     "metadata": {},
     "output_type": "execute_result"
    }
   ],
   "execution_count": 109
  },
  {
   "metadata": {
    "ExecuteTime": {
     "end_time": "2025-02-13T20:07:16.375954Z",
     "start_time": "2025-02-13T20:07:16.371710Z"
    }
   },
   "cell_type": "code",
   "source": "movies.columns",
   "outputs": [
    {
     "data": {
      "text/plain": [
       "Index(['Title', 'Genre'], dtype='object')"
      ]
     },
     "execution_count": 110,
     "metadata": {},
     "output_type": "execute_result"
    }
   ],
   "execution_count": 110
  },
  {
   "metadata": {
    "ExecuteTime": {
     "end_time": "2025-02-13T20:07:16.421892Z",
     "start_time": "2025-02-13T20:07:16.416843Z"
    }
   },
   "cell_type": "code",
   "source": "movies.iloc[:,0]",
   "outputs": [
    {
     "data": {
      "text/plain": [
       "1                         Toy Story (1995)\n",
       "2                           Jumanji (1995)\n",
       "3                  Grumpier Old Men (1995)\n",
       "4                 Waiting to Exhale (1995)\n",
       "5       Father of the Bride Part II (1995)\n",
       "                       ...                \n",
       "3948               Meet the Parents (2000)\n",
       "3949            Requiem for a Dream (2000)\n",
       "3950                      Tigerland (2000)\n",
       "3951               Two Family House (2000)\n",
       "3952                 Contender, The (2000)\n",
       "Name: Title, Length: 3883, dtype: object"
      ]
     },
     "execution_count": 111,
     "metadata": {},
     "output_type": "execute_result"
    }
   ],
   "execution_count": 111
  },
  {
   "metadata": {
    "ExecuteTime": {
     "end_time": "2025-02-13T20:07:16.487481Z",
     "start_time": "2025-02-13T20:07:16.482392Z"
    }
   },
   "cell_type": "code",
   "source": "int(movies.loc[1, \"Title\"].split(\"(\")[1].strip(\")\"))",
   "outputs": [
    {
     "data": {
      "text/plain": [
       "1995"
      ]
     },
     "execution_count": 112,
     "metadata": {},
     "output_type": "execute_result"
    }
   ],
   "execution_count": 112
  },
  {
   "metadata": {
    "ExecuteTime": {
     "end_time": "2025-02-13T20:07:16.534171Z",
     "start_time": "2025-02-13T20:07:16.529078Z"
    }
   },
   "cell_type": "code",
   "source": [
    "def get_year(title):\n",
    "    year= (title.split(\"(\")[-1].strip(\")\"))\n",
    "    year = int(year)\n",
    "    return year"
   ],
   "outputs": [],
   "execution_count": 113
  },
  {
   "metadata": {
    "ExecuteTime": {
     "end_time": "2025-02-13T20:07:16.571419Z",
     "start_time": "2025-02-13T20:07:16.560907Z"
    }
   },
   "cell_type": "code",
   "source": [
    "movies[\"year\"] = movies[\"Title\"].map(get_year)\n",
    "movies"
   ],
   "outputs": [
    {
     "data": {
      "text/plain": [
       "                                   Title                         Genre  year\n",
       "1                       Toy Story (1995)   Animation|Children's|Comedy  1995\n",
       "2                         Jumanji (1995)  Adventure|Children's|Fantasy  1995\n",
       "3                Grumpier Old Men (1995)                Comedy|Romance  1995\n",
       "4               Waiting to Exhale (1995)                  Comedy|Drama  1995\n",
       "5     Father of the Bride Part II (1995)                        Comedy  1995\n",
       "...                                  ...                           ...   ...\n",
       "3948             Meet the Parents (2000)                        Comedy  2000\n",
       "3949          Requiem for a Dream (2000)                         Drama  2000\n",
       "3950                    Tigerland (2000)                         Drama  2000\n",
       "3951             Two Family House (2000)                         Drama  2000\n",
       "3952               Contender, The (2000)                Drama|Thriller  2000\n",
       "\n",
       "[3883 rows x 3 columns]"
      ],
      "text/html": [
       "<div>\n",
       "<style scoped>\n",
       "    .dataframe tbody tr th:only-of-type {\n",
       "        vertical-align: middle;\n",
       "    }\n",
       "\n",
       "    .dataframe tbody tr th {\n",
       "        vertical-align: top;\n",
       "    }\n",
       "\n",
       "    .dataframe thead th {\n",
       "        text-align: right;\n",
       "    }\n",
       "</style>\n",
       "<table border=\"1\" class=\"dataframe\">\n",
       "  <thead>\n",
       "    <tr style=\"text-align: right;\">\n",
       "      <th></th>\n",
       "      <th>Title</th>\n",
       "      <th>Genre</th>\n",
       "      <th>year</th>\n",
       "    </tr>\n",
       "  </thead>\n",
       "  <tbody>\n",
       "    <tr>\n",
       "      <th>1</th>\n",
       "      <td>Toy Story (1995)</td>\n",
       "      <td>Animation|Children's|Comedy</td>\n",
       "      <td>1995</td>\n",
       "    </tr>\n",
       "    <tr>\n",
       "      <th>2</th>\n",
       "      <td>Jumanji (1995)</td>\n",
       "      <td>Adventure|Children's|Fantasy</td>\n",
       "      <td>1995</td>\n",
       "    </tr>\n",
       "    <tr>\n",
       "      <th>3</th>\n",
       "      <td>Grumpier Old Men (1995)</td>\n",
       "      <td>Comedy|Romance</td>\n",
       "      <td>1995</td>\n",
       "    </tr>\n",
       "    <tr>\n",
       "      <th>4</th>\n",
       "      <td>Waiting to Exhale (1995)</td>\n",
       "      <td>Comedy|Drama</td>\n",
       "      <td>1995</td>\n",
       "    </tr>\n",
       "    <tr>\n",
       "      <th>5</th>\n",
       "      <td>Father of the Bride Part II (1995)</td>\n",
       "      <td>Comedy</td>\n",
       "      <td>1995</td>\n",
       "    </tr>\n",
       "    <tr>\n",
       "      <th>...</th>\n",
       "      <td>...</td>\n",
       "      <td>...</td>\n",
       "      <td>...</td>\n",
       "    </tr>\n",
       "    <tr>\n",
       "      <th>3948</th>\n",
       "      <td>Meet the Parents (2000)</td>\n",
       "      <td>Comedy</td>\n",
       "      <td>2000</td>\n",
       "    </tr>\n",
       "    <tr>\n",
       "      <th>3949</th>\n",
       "      <td>Requiem for a Dream (2000)</td>\n",
       "      <td>Drama</td>\n",
       "      <td>2000</td>\n",
       "    </tr>\n",
       "    <tr>\n",
       "      <th>3950</th>\n",
       "      <td>Tigerland (2000)</td>\n",
       "      <td>Drama</td>\n",
       "      <td>2000</td>\n",
       "    </tr>\n",
       "    <tr>\n",
       "      <th>3951</th>\n",
       "      <td>Two Family House (2000)</td>\n",
       "      <td>Drama</td>\n",
       "      <td>2000</td>\n",
       "    </tr>\n",
       "    <tr>\n",
       "      <th>3952</th>\n",
       "      <td>Contender, The (2000)</td>\n",
       "      <td>Drama|Thriller</td>\n",
       "      <td>2000</td>\n",
       "    </tr>\n",
       "  </tbody>\n",
       "</table>\n",
       "<p>3883 rows × 3 columns</p>\n",
       "</div>"
      ]
     },
     "execution_count": 114,
     "metadata": {},
     "output_type": "execute_result"
    }
   ],
   "execution_count": 114
  },
  {
   "metadata": {
    "ExecuteTime": {
     "end_time": "2025-02-13T20:15:31.231526Z",
     "start_time": "2025-02-13T20:15:31.218768Z"
    }
   },
   "cell_type": "code",
   "source": [
    "from matplotlib import pyplot\n",
    "moviesByYear = movies.groupby(\"year\").count()\n"
   ],
   "outputs": [],
   "execution_count": 124
  },
  {
   "metadata": {
    "ExecuteTime": {
     "end_time": "2025-02-13T20:16:01.730129Z",
     "start_time": "2025-02-13T20:16:01.606338Z"
    }
   },
   "cell_type": "code",
   "source": [
    "from matplotlib import pyplot\n",
    "\n",
    "pyplot.plot(moviesByYear.index, moviesByYear[\"Title\"])\n",
    "pyplot.xlabel(\"Year\")\n",
    "pyplot.ylabel(\"Movie Count\")"
   ],
   "outputs": [
    {
     "data": {
      "text/plain": [
       "Text(0, 0.5, 'Movie Count')"
      ]
     },
     "execution_count": 126,
     "metadata": {},
     "output_type": "execute_result"
    },
    {
     "data": {
      "text/plain": [
       "<Figure size 640x480 with 1 Axes>"
      ],
      "image/png": "[encoded data removed]"
     },
     "metadata": {},
     "output_type": "display_data"
    }
   ],
   "execution_count": 126
  }
 ]
}
